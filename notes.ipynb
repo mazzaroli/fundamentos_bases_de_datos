{
 "cells": [
  {
   "attachments": {},
   "cell_type": "markdown",
   "metadata": {},
   "source": [
    "# Fundamentos de Bases de Datos\n",
    "\n",
    "<img src='https://luissoto.website/wp-content/uploads/2020/09/basesDatos.jpg'>"
   ]
  },
  {
   "attachments": {},
   "cell_type": "markdown",
   "metadata": {},
   "source": [
    "## Conceptos básicos y contexto histórico de las Bases de Datos\n",
    "\n",
    "### Historia\n",
    "\n",
    "- Antiguamente se usaban tablillas de arcilla, eran poco transportables y generaban problemas.\n",
    "\n",
    "- Luego se usó el pergamino, era más portátil y liviano, pero era basado en materia animal o vegetal, se descomponía.\n",
    "\n",
    "- Los chinos llegaron a una revolución con el papel, tenía una gran ventaja de portabilidad, pero era fácilmente destruible.\n",
    "\n",
    "- Muchos siglos después, específicamente en el siglo 20, con el microfilm, fue una tecnología que puede almacenar datos de manera infinita y vivir miles de años. Su desventaja es la modificación de información, es muy complejo.\n",
    "\n",
    "- Los medios digitales incluyen los discos duro, cd’s, etc. Se guardaba información en formato de bits y bytes.\n",
    "\n",
    "- La nube fue una gran revolución, tiene muchas ventajas frente a los otros medios de almacenamiento, gracias a su fácil acceso desde cualquier parte del mundo.\n",
    "\n",
    "### Tipos de bases de datos\n",
    "\n",
    "**Relacionales**\n",
    "\n",
    "- SQL server\n",
    "- MariaDB\n",
    "- Oracle\n",
    "- PostgreSQL\n",
    "- Mysql\n",
    "\n",
    "**No relacionales**\n",
    "\n",
    "- Cassandra\n",
    "- Elasticsearch\n",
    "- Neo4j\n",
    "- MongoDB\n",
    "- Servicios\n",
    "\n",
    "**Auto administrados:** Son las bases de datos que instalamos en nuestro pc, nos encargamos de la parte de mantenimiento, updates, etc.\n",
    "\n",
    "**Administrados:** No los llevamos nosotros, los ofrecen las nubes como Amazon."
   ]
  },
  {
   "attachments": {},
   "cell_type": "markdown",
   "metadata": {},
   "source": [
    "## Historia de las bases de datos relacionales\n",
    "\n",
    "Las bases de datos surgen de la necesidad de conservar la información más allá de lo que existe en la memoria RAM.\n",
    "\n",
    "Las bases de datos **basadas en archivos** eran datos guardados en texto plano, fáciles de guardar pero muy difíciles de consultar y por la necesidad de mejorar esto nacen las **bases de datos relacionales.** Su inventor **Edgar Codd** dejó ciertas reglas para asegurarse de que toda la filosofía de las bases de datos no se perdiera, estandarizando el proceso.\n",
    "\n",
    "[12 reglas de Codd](https://www.mindmeister.com/es/1079684487/las-12-reglas-de-codd-del-modelo-relacional?fullscreen=1)"
   ]
  },
  {
   "attachments": {},
   "cell_type": "markdown",
   "metadata": {},
   "source": [
    "## Qué son entidades y atributos\n",
    "\n",
    "En bases de datos, una entidad es la representación de un objeto o concepto del mundo real que se describe en una base de datos. Las entidades se describen en la estructura de la base de datos empleando un modelo de datos.\n",
    "\n",
    "### ¿Qué es una entidad?\n",
    "Una entidad es algo similar a un objeto (programación orientada a objetos) y representa algo en el mundo real, incluso algo abstracto. Tienen atributos que son las cosas que los hacen ser una entidad y por convención se ponen en plural.\n",
    "\n",
    "### Ejemplo de entidad en bases de datos\n",
    "En la imagen puedes observar como ejemplo que la enidad Laptops posee diferentes atributos como colo, pantalla, año, modelo, etc.\n",
    "\n",
    "<img src='https://static.platzi.com/media/user_upload/ejemplo%20de%20entidad-c0b48b06-ba54-4026-add0-e7e522d6f47e.jpg'>\n",
    "## ¿Qué es un atributo?\n",
    "Son las características o propiedades que describen a la entidad (se encierra en un óvalo). Los atributos se componen de:\n",
    "\n",
    "Los atributos compuestos son aquellos que tienen atributos ellos mismos.\n",
    "\n",
    "Los atributos llave son aquellos que identifican a la entidad y no pueden ser repetidos. Existen:\n",
    "\n",
    "- Naturales: son inherentes al objeto como el número de serie\n",
    "- Clave artificial: no es inherente al objeto y se asigna de manera arbitraria.\n",
    "### Tipos de entidades\n",
    "**Entidades fuertes:** son entidades que pueden sobrevivir por sí solas.\n",
    "\n",
    "**Entidades débiles:** no pueden existir sin una entidad fuerte y se representan con un cuadrado con doble línea.\n",
    "\n",
    "- Identidades débiles por identidad: no se diferencian entre sí más que por la clave de su identidad fuerte.\n",
    "\n",
    "- Identidades débiles por existencia: se les asigna una clave propia.\n",
    "### Cómo representar las entidades en bases de datos\n",
    "Existen varios tipos de notaciones para los modelos entidad relacionamiento. Chen es uno de los más utilizados para diagramar lógicamente la base de datos. Aquí te mostramos un ejemplo.\n",
    "\n",
    "<img src='https://static.platzi.com/media/user_upload/ejemplo-notacion-chen-entidades-98a3fc2d-c6c0-4012-9e0e-c51edc2acc40.jpg'>\n"
   ]
  },
  {
   "attachments": {},
   "cell_type": "markdown",
   "metadata": {},
   "source": [
    "## Entidades de Platzi Blog\n",
    "\n",
    "<img src='https://static.platzi.com/media/user_upload/Captura2-8c5455ae-05a4-48bf-8e40-e9f053156c7e.jpg' width=600>"
   ]
  },
  {
   "attachments": {},
   "cell_type": "markdown",
   "metadata": {},
   "source": [
    "## Relaciones\n",
    "\n",
    "Las relaciones nos permiten ligar o unir nuestras diferentes entidades y se representan con rombos. Por convención se definen a través de verbos.\n",
    "\n",
    "Las relaciones tienen una propiedad llamada cardinalidad y tiene que ver con números. Cuántos de un lado pertenecen a cuántos del otro lado:\n",
    "\n",
    "- Cardinalidad: 1 a 1\n",
    "- Cardinalidad: 0 a 1\n",
    "- Cardinalidad: 1 a N\n",
    "- Cardinalidad: 0 a N\n",
    "\n",
    "<img src='https://lh6.googleusercontent.com/proxy/BWwfVeHWLGIMExCLh91GUCnq5-0TX2ay5RelZwRBj5Ku4u90DmqKv_V3WmZ_0IOR-moNHKuNPb-6qccSaOzTJgENwMl5SdjmJO0AxRfx1v1TmtJPXWK95dj3v2C5Tst9b73kZ6JGHiEAhnUhNQiY=w1200-h630-p-k-no-nu'>"
   ]
  },
  {
   "attachments": {},
   "cell_type": "markdown",
   "metadata": {},
   "source": [
    "## Diagrama ER\n",
    "\n",
    "Un diagrama es como un mapa y nos ayuda a entender cuáles son las entidades con las que vamos a trabajar, cuáles son sus relaciones y qué papel van a jugar en las aplicaciones de la base de datos.\n",
    "\n",
    "[Cardinalities](https://en.wikipedia.org/wiki/Entity%E2%80%93relationship_model#Cardinalities)\n",
    "\n",
    "<img src='https://static.platzi.com/media/user_upload/diagrama%20ER-ed0a237c-3e8e-4057-83f2-07fbac9c8548.jpg'>"
   ]
  },
  {
   "attachments": {},
   "cell_type": "markdown",
   "metadata": {},
   "source": [
    "## Diagrama Físico: tipos de datos y constraints\n",
    "\n",
    "Para llevar a la práctica un diagrama debemos ir más allá y darle detalle con parámetros como:\n",
    "\n",
    "**Tipos de dato:**\n",
    "\n",
    "- Texto: CHAR(n), VARCHAR(n), TEXT\n",
    "- Números: INTEGER, BIGINT, SMALLINT, DECIMAL(n,s), NUMERIC(n,s)\n",
    "- Fecha/hora: DATE, TIME, DATETIME, TIMESTAMP\n",
    "- Lógicos: BOOLEAN\n",
    "\n",
    "**Constraints (Restricciones)**\n",
    "\n",
    "- NOT NULL: Se asegura que la columna no tenga valores nulos\n",
    "- UNIQUE: Se asegura que cada valor en la columna no se repita\n",
    "- PRIMARY KEY: Es una combinación de NOT NULL y UNIQUE\n",
    "- FOREIGN KEY: Identifica de manera única una tupla en otra tabla\n",
    "- CHECK: Se asegura que el valor en la columna cumpla una condición dada\n",
    "- DEFAULT: Coloca un valor por defecto cuando no hay un valor especificado\n",
    "- INDEX: Se crea por columna para permitir búsquedas más rápidas"
   ]
  },
  {
   "attachments": {},
   "cell_type": "markdown",
   "metadata": {},
   "source": [
    "## Diagrama Físico: normalización\n",
    "\n",
    "La normalización como su nombre lo indica nos ayuda a dejar todo de una forma normal. Esto obedece a las 12 reglas de Codd y nos permiten separar componentes en la base de datos:\n",
    "\n",
    "- **Primera forma normal (1FN):** Atributos atómicos (Sin campos repetidos)\n",
    "- **Segunda forma normal (2FN):** Cumple 1FN y cada campo de la tabla debe depender de una clave única.\n",
    "- **Tercera forma normal (3FN):** Cumple 1FN y 2FN y los campos que NO son clave, NO deben tener dependencias.\n",
    "- **Cuarta forma normal (4FN):** Cumple 1FN, 2FN, 3FN y los campos multivaluados se identifican por una clave única."
   ]
  },
  {
   "attachments": {},
   "cell_type": "markdown",
   "metadata": {},
   "source": [
    "## Formas normales en Bases de Datos relacionales\n",
    "\n",
    "La normalización en las bases de datos relacionales es uno de esos temas que, por un lado es sumamente importante y por el otro suena algo esotérico. Vamos a tratar de entender las formas normales (FN) de una manera simple para que puedas aplicarlas en tus proyectos profesionales.\n",
    "\n",
    "### Primera Forma Normal (1FN)\n",
    "Esta FN nos ayuda a eliminar los valores repetidos y no atómicos dentro de una base de datos.\n",
    "\n",
    "Formalmente, una tabla está en primera forma normal si:\n",
    "\n",
    "- Todos los atributos son atómicos. Un atributo es atómico si los elementos del dominio son simples e indivisibles.\n",
    "- No debe existir variación en el número de columnas.\n",
    "- Los campos no clave deben identificarse por la clave (dependencia funcional).\n",
    "- Debe existir una independencia del orden tanto de las filas como de las columnas; es decir, si los datos cambian de orden no deben cambiar sus significados.\n",
    "\n",
    "Se traduce básicamente a que si tenemos campos compuestos como por ejemplo “nombre_completo” que en realidad contiene varios datos distintos, en este caso podría ser “nombre”, “apellido_paterno”, “apellido_materno”, etc.\n",
    "\n",
    "También debemos asegurarnos que las columnas son las mismas para todos los registros, que no haya registros con columnas de más o de menos.\n",
    "\n",
    "Todos los campos que no se consideran clave deben depender de manera única por el o los campos que si son clave.\n",
    "\n",
    "Los campos deben ser tales que si reordenamos los registros o reordenamos las columnas, cada dato no pierda el significado.\n",
    "\n",
    "### Segunda Forma Normal (2FN)\n",
    "Esta FN nos ayuda a diferenciar los datos en diversas entidades.\n",
    "\n",
    "Formalmente, una tabla está en segunda forma normal si:\n",
    "\n",
    "- Está en 1FN\n",
    "- Sí los atributos que no forman parte de ninguna clave dependen de forma completa de la clave principal. Es decir, que no existen dependencias parciales.\n",
    "- Todos los atributos que no son clave principal deben depender únicamente de la clave principal.\n",
    "\n",
    "Lo anterior quiere decir que sí tenemos datos que pertenecen a diversas entidades, cada entidad debe tener un campo clave separado. Por ejemplo:\n",
    "\n",
    "<img src='https://static.platzi.com/media/user_upload/Captura%20de%20Pantalla%202019-04-30%20a%20la%28s%29%2017.30.27-e38ed9bb-5d10-4f2b-acdc-fa2fa45433d3.jpg'>\n",
    "\n",
    "En la tabla anterior tenemos por lo menos dos entidades que debemos separar para que cada uno dependa de manera única de su campo llave o ID. En este caso las entidades son alumnos por un lado y materias por el otro. En el ejemplo anterior, quedaría de la siguiente manera:\n",
    "<img src='https://static.platzi.com/media/user_upload/Captura%20de%20Pantalla%202019-04-30%20a%20la%28s%29%2017.26.28-2a12f9b9-2f11-4a1d-9cb0-23c2595cc260.jpg'>\n",
    "\n",
    "### Tercera Forma Normal (3FN)\n",
    "Esta FN nos ayuda a separar conceptualmente las entidades que no son dependientes.\n",
    "\n",
    "Formalmente, una tabla está en tercera forma normal si:\n",
    "\n",
    "Se encuentra en 2FN\n",
    "No existe ninguna dependencia funcional transitiva en los atributos que no son clave\n",
    "\n",
    "Esta FN se traduce en que aquellos datos que no pertenecen a la entidad deben tener una independencia de las demás y debe tener un campo clave propio. Continuando con el ejemplo anterior, al aplicar la 3FN separamos la tabla alumnos ya que contiene datos de los cursos en ella quedando de la siguiente manera.\n",
    "\n",
    "<img src='https://static.platzi.com/media/user_upload/Captura%20de%20Pantalla%202019-04-30%20a%20la%28s%29%2017.27.43-92a1523a-c6fc-42e6-85fb-86dd87ee20af.jpg'>\n",
    "<img src='https://static.platzi.com/media/user_upload/Captura%20de%20Pantalla%202019-04-30%20a%20la%28s%29%2017.27.52-cb96ff88-e8f4-4957-8bbb-ded1cc6cf599.jpg'>\n",
    "\n",
    "### Cuarta Forma Normal (4FN)\n",
    "Esta FN nos trata de atomizar los datos multivaluados de manera que no tengamos datos repetidos entre rows.\n",
    "\n",
    "Formalmente, una tabla está en cuarta forma normal si:\n",
    "\n",
    "- Se encuentra en 3FN\n",
    "- Los campos multivaluados se identifican por una clave única\n",
    "\n",
    "Esta FN trata de eliminar registros duplicados en una entidad, es decir que cada registro tenga un contenido único y de necesitar repetir la data en los resultados se realiza a través de claves foráneas.\n",
    "\n",
    "Aplicado al ejemplo anterior la tabla materia se independiza y se relaciona con el alumno a través de una tabla transitiva o pivote, de tal manera que si cambiamos el nombre de la materia solamente hay que cambiarla una vez y se propagara a cualquier referencia que haya de ella.\n",
    "\n",
    "<img src='https://static.platzi.com/media/user_upload/Captura%20de%20Pantalla%202019-04-30%20a%20la%28s%29%2017.29.00-ba58de30-a08d-472a-82f9-ea478bf6fcee.jpg'>\n",
    "\n",
    "<img src='https://static.platzi.com/media/user_upload/Captura%20de%20Pantalla%202019-04-30%20a%20la%28s%29%2017.29.29-149d96f3-78e4-4a26-8c4a-0f002c81cc2f.jpg'>\n",
    "\n",
    "De esta manera, aunque parezca que la información se multiplicó, en realidad la descompusimos o normalizamos de manera que a un sistema le sea fácil de reconocer y mantener la consistencia de los datos.\n",
    "\n",
    "Algunos autores precisan una 5FN que hace referencia a que después de realizar esta normalización a través de uniones (JOIN) permita regresar a la data original de la cual partió."
   ]
  },
  {
   "attachments": {},
   "cell_type": "markdown",
   "metadata": {},
   "source": [
    "<img src='https://static.platzi.com/media/user_upload/ModeloBDPlatziBlog_ER_Fisico-8a367af9-72f3-434e-8a23-061573daa31f.jpg'>"
   ]
  },
  {
   "attachments": {},
   "cell_type": "markdown",
   "metadata": {},
   "source": [
    "## Instalación local de un RDBMS (Windows)\n",
    "\n",
    "Hay dos maneras de acceder a manejadores de bases de datos:\n",
    "\n",
    "- Instalar en máquina local un administrador de bases relacional.\n",
    "- Tener ambientes de desarrollo especiales o servicios cloud.\n",
    "\n",
    "En este curso usaremos MySQL porque tiene un impacto histórico siendo muy utilizado y además es software libre y gratuito. La versión 5.6.43 es compatible con la mayoría de aplicaciones y frameworks.\n",
    "\n",
    "- Root es el usuario principal que tendrá todos los permisos y por lo tanto en ambientes de producción hay que tener mucho cuidado al configurarlo.\n"
   ]
  },
  {
   "attachments": {},
   "cell_type": "markdown",
   "metadata": {},
   "source": [
    "## ¿Qué es RDB y RDBMS?\n",
    "\n",
    "**RDB (relational database)**\n",
    "\n",
    "**RDBMS (Relational DataBase Management System)** Sistema Manejador de Bases de datos relacionales.\n",
    "\n",
    "La diferencia entre ambos es que las BBDD son un conjunto de datos pertenecientes ( o al menos en teoría) a un mismo tipo de contexto, que guarda los datos de forma persistente para un posterior uso, y el Sistema de gestión de BBDD o sistema manejador, es el que nos permite acceder a ella, es un software, herramienta que sirve de conexión entre las BBDD y el usuario (nos presenta una interfaz para poder gestionarla, manejarla).\n",
    "\n",
    "RDBMS\n",
    "\n",
    "- MySQL\n",
    "- PostgreSQL\n",
    "- Etc\n",
    "Todas toman un lenguaje base, pero cada uno lo apropia, imponiéndole diferentes reglas y características."
   ]
  },
  {
   "attachments": {},
   "cell_type": "markdown",
   "metadata": {},
   "source": [
    "# SQL hasta en la sopa"
   ]
  },
  {
   "attachments": {},
   "cell_type": "markdown",
   "metadata": {},
   "source": [
    "## Historia de SQL\n",
    "\n",
    "**SQL** significa **S**tructured **Q**uery **L**anguage y tiene una estructura clara y fija. Su objetivo es hacer un solo lenguaje para consultar cualquier manejador de bases de datos volviéndose un gran estándar.\n",
    "\n",
    "Ahora existe el **NOSQL** o **N**ot **O**nly **S**tructured **Q**uery **L**anguage que significa que no sólo se utiliza SQL en las bases de datos no relacionales."
   ]
  },
  {
   "attachments": {},
   "cell_type": "markdown",
   "metadata": {},
   "source": [
    "## DDL create\n",
    "\n",
    "**SQL** tiene dos grandes sublenguajes:\n",
    "\n",
    "**DDL** o Data Definition Language que nos ayuda a crear la estructura de una base de datos. Existen 3 grandes comandos:\n",
    "\n",
    "- Create: Nos ayuda a crear bases de datos, tablas, vistas, índices, etc.\n",
    "- Alter: Ayuda a alterar o modificar entidades.\n",
    "- Drop: Nos ayuda a borrar. Hay que tener cuidado al utilizarlo.\n",
    "\n",
    "**3 objetos que manipularemos con el lenguaje DDL:**\n",
    "\n",
    "- Database o bases de datos\n",
    "- Table o tablas. Son la traducción a SQL de las entidades\n",
    "- View o vistas: Se ofrece la proyección de los datos de la base de datos de forma entendible.\n"
   ]
  },
  {
   "attachments": {},
   "cell_type": "markdown",
   "metadata": {},
   "source": [
    "## CREATE VIEW y DDL ALTER\n",
    "\n",
    "Para agregar la vista de clientes, puedes usar el siguiente código desde la pestaña query 1:\n",
    "\n",
    "```SQL\n",
    "INSERT INTO `platziblog`.`people` (`person_id`, `last_name`, `first_name`, `address`, `city`) \n",
    "\n",
    "VALUES ('1', 'Vásquez', 'Israel', 'Calle Famosa Num 1', 'México'),\n",
    "\t       ('2', 'Hernández', 'Mónica', 'Reforma 222', 'México'),\n",
    "\t       ('3', 'Alanis', 'Edgar', 'Central 1', 'Monterrey');\n",
    "```"
   ]
  },
  {
   "attachments": {},
   "cell_type": "markdown",
   "metadata": {},
   "source": [
    "## DDL drop\n",
    "\n",
    "DROP significa peligro\n",
    "\n",
    "<img src='https://static.platzi.com/media/user_upload/f84e9a6ce7aa47ef251792a140b285a3-05a5dde1-f068-467c-81fd-9fa49e800bd8.jpg'>\n",
    "\n",
    "[GitLab.com database incident](https://about.gitlab.com/blog/2017/02/01/gitlab-dot-com-database-incident/)"
   ]
  },
  {
   "attachments": {},
   "cell_type": "markdown",
   "metadata": {},
   "source": [
    "## DML\n",
    "\n",
    "**DML** trata del contenido de la base de datos. Son las siglas de Data Manipulation Language y sus comandos son:\n",
    "\n",
    "- **Insert:** Inserta o agrega nuevos registros a la tabla.\n",
    "- **Update:** Actualiza o modifica los datos que ya existen.\n",
    "- **Delete:** Esta sentencia es riesgosa porque puede borrar el contenido de una tabla.\n",
    "- **Select:** Trae información de la base de datos."
   ]
  },
  {
   "attachments": {},
   "cell_type": "markdown",
   "metadata": {},
   "source": [
    "## ¿Qué tan standard es SQL?\n",
    "\n",
    "La utilidad más grande de **SQL** fue unificar la forma en la que pensamos y hacemos preguntas a un repositorio de datos. Ahora que nacen nuevas bases de datos igualmente siguen tomando elementos de **SQL**."
   ]
  },
  {
   "attachments": {},
   "cell_type": "markdown",
   "metadata": {},
   "source": [
    "## Creando Platziblog: tablas transitivas\n",
    "\n",
    "- Las tablas transitivas sirven como puente para unir dos tablas. No tienen contenido semántico.\n",
    "- **Reverse Engineer** nos reproduce el esquema del cual nos basamos para crear nuestras tablas. Es útil cuando llegas a un nuevo trabajo y quieres entender cuál fue la mentalidad que tuvieron al momento de crear las bases de datos.\n",
    "\n",
    "<img src='https://static.platzi.com/media/user_upload/base-6bb9d377-9747-40eb-9195-f1d54fb609ae.jpg' width=600>"
   ]
  },
  {
   "attachments": {},
   "cell_type": "markdown",
   "metadata": {},
   "source": [
    "# Consultas a una base de datos\n",
    "\n",
    "## ¿Por qué las consultas son tan importantes?\n",
    "\n",
    "Las consultas o queries a una base de datos son una parte fundamental ya que esto podría salvar un negocio o empresa.\n",
    "Alrededor de las consultas a las bases de datos se han creado varias especialidades como **ETL** o transformación de datos, **business intelligence** e incluso **machine learning.**"
   ]
  },
  {
   "attachments": {},
   "cell_type": "markdown",
   "metadata": {},
   "source": [
    "## Estructura básica de un Query\n",
    "\n",
    "Los queries son la forma en la que estructuramos las preguntas que se harán a la base de datos. Transforma preguntas en sintaxis.\n",
    "\n",
    "El query tiene básicamente 2 partes: **SELECT** y **FROM** y puede aparecer una tercera como **WHERE**.\n",
    "\n",
    "- La estrellita o asterisco (*) quiere decir que vamos a seleccionar todo sin filtrar campos."
   ]
  },
  {
   "attachments": {},
   "cell_type": "markdown",
   "metadata": {},
   "source": [
    "## SELECT\n",
    "\n",
    "**SELECT** se encarga de proyectar o mostrar datos.\n",
    "\n",
    "- El nombre de las columnas o campos que estamos consultando puede ser cambiado utilizando AS después del nombre del campo y poniendo el nuevo que queremos tener:\n",
    "```sql\n",
    "SELECT titulo AS encabezado\n",
    "FROM posts;\n",
    "```\n",
    "- Existe una función de SELECT para poder contar la cantidad de registros. Esa información (un número) será el resultado del query:\n",
    "```sql\n",
    "SELECT COUNT(*)\n",
    "FROM posts;\n",
    "```"
   ]
  },
  {
   "attachments": {},
   "cell_type": "markdown",
   "metadata": {},
   "source": [
    "## FROM\n",
    "\n",
    "**FROM** indica de dónde se deben traer los datos y puede ayudar a hacer sentencias y filtros complejos cuando se quieren unir tablas. La sentencia compañera que nos ayuda con este proceso es **JOIN**.\n",
    "\n",
    "Los diagramas de Venn son círculos que se tocan en algún punto para ver dónde está la intersección de conjuntos. Ayudan mucho para poder formular la sentencia **JOIN** de la manera adecuada dependiendo del query que se quiere hacer.\n",
    "\n",
    "<img src='https://ingenieriadesoftware.es/wp-content/uploads/2018/07/sqljoin.jpeg'>"
   ]
  },
  {
   "attachments": {},
   "cell_type": "markdown",
   "metadata": {},
   "source": [
    "## WHERE\n",
    "\n",
    "**WHERE** es la sentencia que nos ayuda a filtrar tuplas o registros dependiendo de las características que elegimos.\n",
    "\n",
    "- La propiedad **LIKE** nos ayuda a traer registros de los cuales conocemos sólo una parte de la información.\n",
    "- La propiedad **BETWEEN** nos sirve para arrojar registros que estén en el medio de dos. Por ejemplo los registros con id entre 20 y 30."
   ]
  },
  {
   "attachments": {},
   "cell_type": "markdown",
   "metadata": {},
   "source": [
    "## Utilizando la sentencia WHERE nulo y no nulo\n",
    "\n",
    "El valor nulo en una tabla generalmente es su valor por defecto cuando nadie le asignó algo diferente. La sintaxis para hacer búsquedas de datos nulos es **IS NULL**. La sintaxis para buscar datos que no son nulos es **IS NOT NULL**\n",
    "\n"
   ]
  },
  {
   "attachments": {},
   "cell_type": "markdown",
   "metadata": {},
   "source": [
    "## GROUP BY\n",
    "\n",
    "**GROUP BY** tiene que ver con agrupación. Indica a la base de datos qué criterios debe tener en cuenta para agrupar."
   ]
  },
  {
   "attachments": {},
   "cell_type": "markdown",
   "metadata": {},
   "source": [
    "## ORDER BY y HAVING\n",
    "\n",
    "La sentencia **ORDER BY** tiene que ver con el ordenamiento de los datos dependiendo de los criterios que quieras usar.\n",
    "\n",
    "- **ASC** sirve para ordenar de forma ascendente.\n",
    "- **DESC** sirve para ordenar de forma descendente.\n",
    "- **LIMIT** se usa para limitar la cantidad de resultados que arroja el query.\n",
    "\n",
    "**HAVING** tiene una similitud muy grande con **WHERE**, sin embargo el uso de ellos depende del orden. Cuando se quiere seleccionar tuplas agrupadas únicamente se puede hacer con **HAVING**."
   ]
  },
  {
   "attachments": {},
   "cell_type": "markdown",
   "metadata": {},
   "source": [
    "## El interminable agujero de conejo (Nested queries)\n",
    "\n",
    "Los **Nested queries** significan que dentro de un query podemos hacer otro query. Esto sirve para hacer join de tablas, estando una en memoria. También teniendo un query como condicional del otro.\n",
    "\n",
    "Este proceso puede ser tan profundo como quieras, teniendo infinitos queries anidados.\n",
    "Se le conoce como un producto cartesiano ya que se multiplican todos los registros de una tabla con todos los del nuevo query. Esto provoca que el query sea difícil de procesar por lo pesado que puede resultar."
   ]
  },
  {
   "attachments": {},
   "cell_type": "markdown",
   "metadata": {},
   "source": [
    "## ¿Cómo convertir una pregunta en un query SQL?\n",
    "\n",
    "De pregunta a Query\n",
    "\n",
    "- SELECT: Lo que quieres mostrar\n",
    "- FROM: De dónde voy a tomar los datos\n",
    "- WHERE: Los filtros de los datos que quieres mostrar\n",
    "- GROUP BY: Los rubros por los que me interesa agrupar la información\n",
    "- ORDER BY: El orden en que quiero presentar mi información\n",
    "- HAVING: Los filtros que quiero que mis datos agrupados tengan\n",
    "- LIMIT: La cantidad de registros que quiero"
   ]
  },
  {
   "attachments": {},
   "cell_type": "markdown",
   "metadata": {},
   "source": [
    "## Preguntándole a la base de datos\n",
    "\n",
    "- **GROUP_CONCAT** toma el resultado del query y lo pone como campo separado por comas.\n"
   ]
  },
  {
   "attachments": {},
   "cell_type": "markdown",
   "metadata": {},
   "source": [
    "## Consultando PlatziBlog\n",
    "\n",
    "Puedes usar una abreviación para evitar escribir lo mismo cada vez.\n",
    "Ejemplo:\n",
    "\n",
    "```sql\n",
    "FROM categorias AS c\n",
    "```\n"
   ]
  },
  {
   "attachments": {},
   "cell_type": "markdown",
   "metadata": {},
   "source": [
    "# Introducción a la bases de datos NO relacionales\n",
    "\n",
    "## Servicios administrados y jerarquía de datos\n",
    "\n",
    "**Firebase** es un servicio de Google donde puedes tercerizar muchos elementos en la nube.\n",
    "\n",
    "**Jerarquía de datos**:\n",
    "\n",
    "-  Base de Datos: Contiene toda la información que se quiere guardar.\n",
    "\n",
    "-  Colección: Es igual a las tablas en las bases de datos relacionales. Son objetos que agrupan (Documentos) la información que se desea guardar.\n",
    "\n",
    "-  Documento: Es la información que se quiere guardar. Se guarda en un formato muy parecido al formato JSON (es un lenguaje que se utiliza para comunicarse con diferentes lenguajes o aplicaciones). Los documentos dentro de ellos contienen datos.\n",
    "\n",
    "<img src='https://static.platzi.com/media/user_upload/FireStore-5474c032-0994-423f-a39e-2b33c1c9ef60.jpg'>"
   ]
  },
  {
   "attachments": {},
   "cell_type": "markdown",
   "metadata": {},
   "source": [
    "## ¿Qué son y cuáles son los tipos de bases de datos no relacionales?\n",
    "\n",
    "Respecto a las bases de datos no relacionales, no existe un solo tipo, aunque se engloben en una sola categoría.\n",
    "\n",
    "Tipos de bases de datos no relacionales:\n",
    "\n",
    "- **Clave - valor:** Son ideales para almacenar y extraer datos con una clave única. Manejan los diccionarios de manera excepcional. Ejemplos: **DynamoDB, Cassandra**.\n",
    "\n",
    "- **Basadas en documentos:** Son una implementación de clave valor que varía en la forma semiestructurada en que se trata la información. Ideal para almacenar datos JSON y XML. Ejemplos: **MongoDB, Firestore.**\n",
    "\n",
    "- **Basadas en grafos:** Basadas en teoría de grafos, sirven para entidades que se encuentran interconectadas por múltiples relaciones. Ideales para almacenar relaciones complejas. Ejemplos: **neo4j, TITAN.**\n",
    "\n",
    "- **En memoria:** Pueden ser de estructura variada, pero su ventaja radica en la velocidad, ya que al vivir en memoria la extracción de datos es casi inmediata. Ejemplos: **Memcached, Redis.**\n",
    "\n",
    "- **Optimizadas para búsquedas:** Pueden ser de diversas estructuras, su ventaja radica en que se pueden hacer queries y búsquedas complejas de manera sencilla. Ejemplos: **BigQuery, Elasticsearch.**"
   ]
  },
  {
   "attachments": {},
   "cell_type": "markdown",
   "metadata": {},
   "source": [
    "## Colecciones vs subcolecciones\n",
    "\n",
    "La particularidad de las top level collections es que existen en el primer nivel de manera intrínseca. Las subcolecciones ya no vivirán al inicio de la base de datos.\n",
    "\n",
    "Si tienes una entidad separada que vas a referenciar desde muchos lugares es recomendado usar un top level collection. Por el otro lado si se necesita hacer algo intrínseco al documento es aconsejable usar subcolecciones."
   ]
  },
  {
   "attachments": {},
   "cell_type": "markdown",
   "metadata": {},
   "source": [
    "# Bases de datos en la vida real\n",
    "\n",
    "## Bases de datos en la vida real\n",
    "\n",
    "Hoy en dia, se utilizan diversos tipos de bases de datos segun el problema que se quiera resolver:\n",
    "\n",
    "- Las bases de datos relacionales, durante mucho tiempo, fueron utilizadas para resolver todo tipo de situaciones, pero al aumentar enormemente el numero de datos a manejar, se volveron ineficientes en muchos casos.\n",
    "\n",
    "- Firestore o MongoDB nos permiten obtener los datos actuales de la aplicacion de manera simple. Sin embargo, no nos permite hacer, por ejemplo, queries muy complejos.\n",
    "\n",
    "- En una misma disciplina, es probable que haya que utilizar mas de un tipo de bases de datos."
   ]
  },
  {
   "attachments": {},
   "cell_type": "markdown",
   "metadata": {},
   "source": [
    "## Big Data\n",
    "\n",
    "**Big Data** es un concepto que nace de la necesidad de manejar grandes cantidades de datos. La tendencia comenzó con compañías como YouTube al tener la necesidad de guardar y consultar mucha información de manera rápida.\n",
    "\n",
    "Es un gran movimiento que consiste en el uso de diferentes tipos de bases de datos."
   ]
  },
  {
   "attachments": {},
   "cell_type": "markdown",
   "metadata": {},
   "source": [
    "## Data warehouse\n",
    "\n",
    "**Data Warehouse** trata de guardar cantidades masivas de datos para la posteridad. Allí se guarda todo lo que no está viviendo en la aplicación pero es necesario tenerlo.\n",
    "\n",
    "Debe servir para guardar datos por un largo periodo de tiempo y estos datos se deben poder usar para poder encontrar cuestiones interesantes para el negocio."
   ]
  },
  {
   "attachments": {},
   "cell_type": "markdown",
   "metadata": {},
   "source": [
    "## Data mining\n",
    "\n",
    "El **Data Mining** se dedica a minar datos, a extraerlos de donde sea que estén (archivos muertos, base de datos actual, etc…) y hacer sentido de ellos para darles un uso.\n"
   ]
  },
  {
   "attachments": {},
   "cell_type": "markdown",
   "metadata": {},
   "source": [
    "## Business intelligence\n",
    "\n",
    "**Business Intelligence** es una parte muy importante de las carreras de datos ya que es el punto final del manejo de estos. Su razón de ser es tener la información lista, clara y que tenga todos los elementos para tomar decisiones en una empresa.\n",
    "\n",
    "Es necesario tener una buena sensibilidad por entender el negocio, sus necesidades y la información que puede llevar a tomar decisiones en el momento adecuado al momento de realizar business intelligence."
   ]
  },
  {
   "attachments": {},
   "cell_type": "markdown",
   "metadata": {},
   "source": [
    "## Machine Learning\n",
    "\n",
    "**Machine Learning** tiene significados que varían. Es una serie de técnicas que involucran la inteligencia artificial y la detección de patrones.\n",
    "\n",
    "Machine learning para datos tiene un gran campo de acción y es un paso más allá del business intelligence.\n",
    "Nos ayuda a hacer modelos que encuentran patrones fortuitos encontrando correlaciones inesperadas.\n",
    "\n",
    "**Tiene dos casos de uso particulares:**\n",
    "\n",
    "- Clasificación\n",
    "- Predicción"
   ]
  },
  {
   "attachments": {},
   "cell_type": "markdown",
   "metadata": {},
   "source": [
    "## Data Science\n",
    "\n",
    "**Data Science** es aplicar todas las técnicas de procesamiento de datos. En su manera más pura tiene que ver con gente con un background de estadísticas y ciencias duras."
   ]
  },
  {
   "attachments": {},
   "cell_type": "markdown",
   "metadata": {},
   "source": [
    "# Preguntas y respuestas\n",
    "\n",
    "-¿Por que es importante tener un registro de información que perdure en el tiempo?\n",
    "\n",
    "    Permiten que el conocimiento se perpetué\n",
    "\n",
    "-¿Cuál es el otro nombre que se le da a las 12 reglas de Codd?\n",
    "\n",
    "    Mandamientos\n",
    "\n",
    "-¿Cuáles son las formas en que una entidad puede ser débil?\n",
    "\n",
    "    Identidad y existencia\n",
    "\n",
    "-¿Qué tipo de palabra se utiliza para denotar una relación entre dos entidades de una base de datos?\n",
    "\n",
    "    Verbo\n",
    "\n",
    "-Diferencia original entre char y varchar\n",
    "    \n",
    "    Char reserva estáticamente en memoria y varchar reserva variablemente\n",
    "\n",
    "-¿Cuántas formas normales vimos en clase?\n",
    "\n",
    "    4\n",
    "\n",
    "-¿Cuál de los siguientes es un RDBMS open source?\n",
    "\n",
    "    MariaDB\n",
    "\n",
    "-¿Por qué se les llama servicios administrados?\n",
    "\n",
    "    Los administra una compañía dedicada\n",
    "\n",
    "-¿Qué significa la “S” en SQL?\n",
    "\n",
    "    Structured\n",
    "\n",
    "-¿En qué fase de un proyecto se utiliza más fuertemente el lenguaje DDL?\n",
    "\n",
    "    Al inicio\n",
    "\n",
    "-¿Cuál de los siguientes objetos se puede crear con la sentencia “create”?\n",
    "\n",
    "    Tabla\n",
    "\n",
    "-¿Qué de lo siguiente se puede lograr con la sentencia \"ALTER TABLE\"?\n",
    "\n",
    "    Agregar una columna\n",
    "\n",
    "-La sentencia DROP puede borrar una base de datos (schema) completa\n",
    "    \n",
    "    Cierto\n",
    "\n",
    "-¿En qué fase de un proyecto se utiliza más fuertemente el lenguaje DML?\n",
    "    \n",
    "    En el día a día\n",
    "\n",
    "-La sentencia UPDATE sirve para crear una nueva tupla si no existe\n",
    "    \n",
    "    Falso\n",
    "\n",
    "-¿Qué sentencia debemos agregar a la sentencia \"DELETE\" a manera de red de protección?\n",
    "    \n",
    "    WHERE\n",
    "\n",
    "-La mayoría de sentencias SQL corren con mínimas modificaciones en cualquier RDBMS\n",
    "    \n",
    "    Cierto\n",
    "\n",
    "-¿Cuál es la principal sentencia de consulta?\n",
    "    \n",
    "    SELECT\n",
    "\n",
    "-¿Cuál es la estructura básica de un query de consulta?\n",
    "    \n",
    "    SELECT FROM WHERE\n",
    "\n",
    "-¿Cuál es un ejemplo de base de datos optimizada para búsqueda?\n",
    "    \n",
    "    Big Query\n",
    "\n",
    "-¿Cual es el objeto principal en la base de datos Firestore?\n",
    "    \n",
    "    Documento\n",
    "\n",
    "-Las top level collection son las colecciones que tienen un documento padre\n",
    "\n",
    "    Falso\n",
    "\n",
    "-¿Cuál de los siguientes es un tipo de dato en Firestore?\n",
    "    \n",
    "    String\n",
    "\n",
    "-Utilizamos subcolecciones cuando queremos acceder a sus documentos de manera independiente o son referenciados desde otras colecciones\n",
    "\n",
    "    Falso\n",
    "\n",
    "-¿A que se traducen las entidades de un RDBMS en Firestore?\n",
    "    \n",
    "    Colecciones\n",
    "\n",
    "-¿A que se traducen las tuplas de un RDBMS en Firestore?\n",
    "    \n",
    "    Documentos\n",
    "\n",
    "-¿Cuál es el caso de uso principal de una base de datos basada en documentos?\n",
    "    \n",
    "    El estado actual de una aplicación\n",
    "\n",
    "-¿Cuál es el caso de uso principal de una base de datos basada en grafos?\n",
    "    \n",
    "    Relaciones complejas y machine learning\n",
    "\n",
    "-¿Cuál es el propósito principal del Business Intelligence?\n",
    "    \n",
    "    Ayudar a tomar mejores decisiones\n",
    "\n",
    "-¿Cuáles son las dos funciones básicas de la mayoría de servicios de machine learning?\n",
    "    \n",
    "    Predicción y clasificación"
   ]
  }
 ],
 "metadata": {
  "language_info": {
   "name": "python"
  },
  "orig_nbformat": 4
 },
 "nbformat": 4,
 "nbformat_minor": 2
}
